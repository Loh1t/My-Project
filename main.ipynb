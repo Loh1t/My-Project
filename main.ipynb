{
 "cells": [
  {
   "cell_type": "code",
   "execution_count": 83,
   "metadata": {},
   "outputs": [
    {
     "data": {
      "text/html": [
       "<div>\n",
       "<style scoped>\n",
       "    .dataframe tbody tr th:only-of-type {\n",
       "        vertical-align: middle;\n",
       "    }\n",
       "\n",
       "    .dataframe tbody tr th {\n",
       "        vertical-align: top;\n",
       "    }\n",
       "\n",
       "    .dataframe thead th {\n",
       "        text-align: right;\n",
       "    }\n",
       "</style>\n",
       "<table border=\"1\" class=\"dataframe\">\n",
       "  <thead>\n",
       "    <tr style=\"text-align: right;\">\n",
       "      <th></th>\n",
       "      <th>worker_id</th>\n",
       "      <th>department</th>\n",
       "      <th>location</th>\n",
       "      <th>order_detail</th>\n",
       "      <th>shift</th>\n",
       "      <th>season</th>\n",
       "      <th>detailed_order</th>\n",
       "      <th>office_location</th>\n",
       "      <th>assigned_starbucks</th>\n",
       "      <th>adjusted_order_time</th>\n",
       "      <th>adjusted_pickup_time</th>\n",
       "      <th>prep_time_minutes</th>\n",
       "      <th>time_slot</th>\n",
       "      <th>expected_wait_time_minutes</th>\n",
       "    </tr>\n",
       "  </thead>\n",
       "  <tbody>\n",
       "    <tr>\n",
       "      <th>0</th>\n",
       "      <td>1</td>\n",
       "      <td>Sales</td>\n",
       "      <td>Starbucks_2</td>\n",
       "      <td>Latte - Oat Milk - Sweetener - Large - Caramel...</td>\n",
       "      <td>Morning</td>\n",
       "      <td>Fall</td>\n",
       "      <td>Small - Almond Milk - Extra Sweetener - Flavor...</td>\n",
       "      <td>Office_E</td>\n",
       "      <td>Starbucks_3</td>\n",
       "      <td>2025-03-08 08:57:00</td>\n",
       "      <td>2025-03-08 09:10:00</td>\n",
       "      <td>4.0</td>\n",
       "      <td>Morning Rush (8:00 AM - 10:00 AM)</td>\n",
       "      <td>6</td>\n",
       "    </tr>\n",
       "    <tr>\n",
       "      <th>1</th>\n",
       "      <td>2</td>\n",
       "      <td>Marketing</td>\n",
       "      <td>Starbucks_3</td>\n",
       "      <td>Frappuccino - Soy Milk - Extra Sweetener - Med...</td>\n",
       "      <td>Evening</td>\n",
       "      <td>Fall</td>\n",
       "      <td>Large - Almond Milk - Sweetener - None</td>\n",
       "      <td>Office_E</td>\n",
       "      <td>Starbucks_3</td>\n",
       "      <td>2025-03-08 16:26:00</td>\n",
       "      <td>2025-03-08 16:32:00</td>\n",
       "      <td>5.0</td>\n",
       "      <td>Midday (10:00 AM - 12:00 PM)</td>\n",
       "      <td>6</td>\n",
       "    </tr>\n",
       "    <tr>\n",
       "      <th>2</th>\n",
       "      <td>3</td>\n",
       "      <td>Engineering</td>\n",
       "      <td>Starbucks_1</td>\n",
       "      <td>Latte - Coconut Milk - Extra Sweetener - Small...</td>\n",
       "      <td>Morning</td>\n",
       "      <td>Winter</td>\n",
       "      <td>Small - Regular - No Sugar - None</td>\n",
       "      <td>Office_E</td>\n",
       "      <td>Starbucks_3</td>\n",
       "      <td>2025-03-08 09:42:00</td>\n",
       "      <td>2025-03-08 09:54:00</td>\n",
       "      <td>4.0</td>\n",
       "      <td>NaN</td>\n",
       "      <td>6</td>\n",
       "    </tr>\n",
       "    <tr>\n",
       "      <th>3</th>\n",
       "      <td>4</td>\n",
       "      <td>Support</td>\n",
       "      <td>Starbucks_2</td>\n",
       "      <td>Latte - Coconut Milk - Sweetener - Small - None</td>\n",
       "      <td>Evening</td>\n",
       "      <td>Winter</td>\n",
       "      <td>Large - Regular - Extra Sweetener - None</td>\n",
       "      <td>Office_A</td>\n",
       "      <td>Starbucks_2</td>\n",
       "      <td>2025-03-08 16:52:00</td>\n",
       "      <td>2025-03-08 17:11:00</td>\n",
       "      <td>3.0</td>\n",
       "      <td>Afternoon (12:00 PM - 2:00 PM)</td>\n",
       "      <td>5</td>\n",
       "    </tr>\n",
       "    <tr>\n",
       "      <th>4</th>\n",
       "      <td>5</td>\n",
       "      <td>Finance</td>\n",
       "      <td>Starbucks_2</td>\n",
       "      <td>Mocha - Regular - Sweetener - Large - Flavored...</td>\n",
       "      <td>Evening</td>\n",
       "      <td>Summer</td>\n",
       "      <td>Small - Oat Milk - No Sugar - None</td>\n",
       "      <td>Office_A</td>\n",
       "      <td>Starbucks_1</td>\n",
       "      <td>2025-03-08 16:57:00</td>\n",
       "      <td>2025-03-08 17:14:00</td>\n",
       "      <td>5.0</td>\n",
       "      <td>Afternoon (12:00 PM - 2:00 PM)</td>\n",
       "      <td>7</td>\n",
       "    </tr>\n",
       "  </tbody>\n",
       "</table>\n",
       "</div>"
      ],
      "text/plain": [
       "   worker_id   department     location  \\\n",
       "0          1        Sales  Starbucks_2   \n",
       "1          2    Marketing  Starbucks_3   \n",
       "2          3  Engineering  Starbucks_1   \n",
       "3          4      Support  Starbucks_2   \n",
       "4          5      Finance  Starbucks_2   \n",
       "\n",
       "                                        order_detail    shift  season  \\\n",
       "0  Latte - Oat Milk - Sweetener - Large - Caramel...  Morning    Fall   \n",
       "1  Frappuccino - Soy Milk - Extra Sweetener - Med...  Evening    Fall   \n",
       "2  Latte - Coconut Milk - Extra Sweetener - Small...  Morning  Winter   \n",
       "3    Latte - Coconut Milk - Sweetener - Small - None  Evening  Winter   \n",
       "4  Mocha - Regular - Sweetener - Large - Flavored...  Evening  Summer   \n",
       "\n",
       "                                      detailed_order office_location  \\\n",
       "0  Small - Almond Milk - Extra Sweetener - Flavor...        Office_E   \n",
       "1             Large - Almond Milk - Sweetener - None        Office_E   \n",
       "2                  Small - Regular - No Sugar - None        Office_E   \n",
       "3           Large - Regular - Extra Sweetener - None        Office_A   \n",
       "4                 Small - Oat Milk - No Sugar - None        Office_A   \n",
       "\n",
       "  assigned_starbucks  adjusted_order_time adjusted_pickup_time  \\\n",
       "0        Starbucks_3  2025-03-08 08:57:00  2025-03-08 09:10:00   \n",
       "1        Starbucks_3  2025-03-08 16:26:00  2025-03-08 16:32:00   \n",
       "2        Starbucks_3  2025-03-08 09:42:00  2025-03-08 09:54:00   \n",
       "3        Starbucks_2  2025-03-08 16:52:00  2025-03-08 17:11:00   \n",
       "4        Starbucks_1  2025-03-08 16:57:00  2025-03-08 17:14:00   \n",
       "\n",
       "   prep_time_minutes                          time_slot  \\\n",
       "0                4.0  Morning Rush (8:00 AM - 10:00 AM)   \n",
       "1                5.0       Midday (10:00 AM - 12:00 PM)   \n",
       "2                4.0                                NaN   \n",
       "3                3.0     Afternoon (12:00 PM - 2:00 PM)   \n",
       "4                5.0     Afternoon (12:00 PM - 2:00 PM)   \n",
       "\n",
       "   expected_wait_time_minutes  \n",
       "0                           6  \n",
       "1                           6  \n",
       "2                           6  \n",
       "3                           5  \n",
       "4                           7  "
      ]
     },
     "execution_count": 83,
     "metadata": {},
     "output_type": "execute_result"
    }
   ],
   "source": [
    "import pandas as pd\n",
    "\n",
    "df = pd.read_csv('C:/Lohit/New folder/Updated_Starbucks_Order_Data_with_Missing_Values.csv')\n",
    "\n",
    "df.head()"
   ]
  },
  {
   "cell_type": "code",
   "execution_count": 84,
   "metadata": {},
   "outputs": [],
   "source": [
    "# Convert the columns to datetime using the correct format\n",
    "df['adjusted_order_time'] = pd.to_datetime(df['adjusted_order_time'], format='%Y-%m-%d %H:%M:%S')\n",
    "df['adjusted_pickup_time'] = pd.to_datetime(df['adjusted_pickup_time'], format='%Y-%m-%d %H:%M:%S')\n",
    "\n",
    "# Extract the time part\n",
    "df['order_time_only'] = df['adjusted_order_time'].dt.strftime('%H:%M')\n",
    "df['pickup_time_only'] = df['adjusted_pickup_time'].dt.strftime('%H:%M')\n",
    "\n",
    "new_df = df.drop(columns=['adjusted_order_time','adjusted_pickup_time'])"
   ]
  },
  {
   "cell_type": "code",
   "execution_count": 85,
   "metadata": {},
   "outputs": [
    {
     "data": {
      "text/html": [
       "<div>\n",
       "<style scoped>\n",
       "    .dataframe tbody tr th:only-of-type {\n",
       "        vertical-align: middle;\n",
       "    }\n",
       "\n",
       "    .dataframe tbody tr th {\n",
       "        vertical-align: top;\n",
       "    }\n",
       "\n",
       "    .dataframe thead th {\n",
       "        text-align: right;\n",
       "    }\n",
       "</style>\n",
       "<table border=\"1\" class=\"dataframe\">\n",
       "  <thead>\n",
       "    <tr style=\"text-align: right;\">\n",
       "      <th></th>\n",
       "      <th>worker_id</th>\n",
       "      <th>department</th>\n",
       "      <th>location</th>\n",
       "      <th>order_detail</th>\n",
       "      <th>shift</th>\n",
       "      <th>season</th>\n",
       "      <th>detailed_order</th>\n",
       "      <th>office_location</th>\n",
       "      <th>assigned_starbucks</th>\n",
       "      <th>prep_time_minutes</th>\n",
       "      <th>time_slot</th>\n",
       "      <th>expected_wait_time_minutes</th>\n",
       "      <th>order_time_only</th>\n",
       "      <th>pickup_time_only</th>\n",
       "    </tr>\n",
       "  </thead>\n",
       "  <tbody>\n",
       "    <tr>\n",
       "      <th>0</th>\n",
       "      <td>1</td>\n",
       "      <td>Sales</td>\n",
       "      <td>Starbucks_2</td>\n",
       "      <td>Latte - Oat Milk - Sweetener - Large - Caramel...</td>\n",
       "      <td>Morning</td>\n",
       "      <td>Fall</td>\n",
       "      <td>Small - Almond Milk - Extra Sweetener - Flavor...</td>\n",
       "      <td>Office_E</td>\n",
       "      <td>Starbucks_3</td>\n",
       "      <td>4.0</td>\n",
       "      <td>Morning Rush (8:00 AM - 10:00 AM)</td>\n",
       "      <td>6</td>\n",
       "      <td>08:57</td>\n",
       "      <td>09:10</td>\n",
       "    </tr>\n",
       "    <tr>\n",
       "      <th>1</th>\n",
       "      <td>2</td>\n",
       "      <td>Marketing</td>\n",
       "      <td>Starbucks_3</td>\n",
       "      <td>Frappuccino - Soy Milk - Extra Sweetener - Med...</td>\n",
       "      <td>Evening</td>\n",
       "      <td>Fall</td>\n",
       "      <td>Large - Almond Milk - Sweetener - None</td>\n",
       "      <td>Office_E</td>\n",
       "      <td>Starbucks_3</td>\n",
       "      <td>5.0</td>\n",
       "      <td>Midday (10:00 AM - 12:00 PM)</td>\n",
       "      <td>6</td>\n",
       "      <td>16:26</td>\n",
       "      <td>16:32</td>\n",
       "    </tr>\n",
       "    <tr>\n",
       "      <th>2</th>\n",
       "      <td>3</td>\n",
       "      <td>Engineering</td>\n",
       "      <td>Starbucks_1</td>\n",
       "      <td>Latte - Coconut Milk - Extra Sweetener - Small...</td>\n",
       "      <td>Morning</td>\n",
       "      <td>Winter</td>\n",
       "      <td>Small - Regular - No Sugar - None</td>\n",
       "      <td>Office_E</td>\n",
       "      <td>Starbucks_3</td>\n",
       "      <td>4.0</td>\n",
       "      <td>NaN</td>\n",
       "      <td>6</td>\n",
       "      <td>09:42</td>\n",
       "      <td>09:54</td>\n",
       "    </tr>\n",
       "    <tr>\n",
       "      <th>3</th>\n",
       "      <td>4</td>\n",
       "      <td>Support</td>\n",
       "      <td>Starbucks_2</td>\n",
       "      <td>Latte - Coconut Milk - Sweetener - Small - None</td>\n",
       "      <td>Evening</td>\n",
       "      <td>Winter</td>\n",
       "      <td>Large - Regular - Extra Sweetener - None</td>\n",
       "      <td>Office_A</td>\n",
       "      <td>Starbucks_2</td>\n",
       "      <td>3.0</td>\n",
       "      <td>Afternoon (12:00 PM - 2:00 PM)</td>\n",
       "      <td>5</td>\n",
       "      <td>16:52</td>\n",
       "      <td>17:11</td>\n",
       "    </tr>\n",
       "    <tr>\n",
       "      <th>4</th>\n",
       "      <td>5</td>\n",
       "      <td>Finance</td>\n",
       "      <td>Starbucks_2</td>\n",
       "      <td>Mocha - Regular - Sweetener - Large - Flavored...</td>\n",
       "      <td>Evening</td>\n",
       "      <td>Summer</td>\n",
       "      <td>Small - Oat Milk - No Sugar - None</td>\n",
       "      <td>Office_A</td>\n",
       "      <td>Starbucks_1</td>\n",
       "      <td>5.0</td>\n",
       "      <td>Afternoon (12:00 PM - 2:00 PM)</td>\n",
       "      <td>7</td>\n",
       "      <td>16:57</td>\n",
       "      <td>17:14</td>\n",
       "    </tr>\n",
       "  </tbody>\n",
       "</table>\n",
       "</div>"
      ],
      "text/plain": [
       "   worker_id   department     location  \\\n",
       "0          1        Sales  Starbucks_2   \n",
       "1          2    Marketing  Starbucks_3   \n",
       "2          3  Engineering  Starbucks_1   \n",
       "3          4      Support  Starbucks_2   \n",
       "4          5      Finance  Starbucks_2   \n",
       "\n",
       "                                        order_detail    shift  season  \\\n",
       "0  Latte - Oat Milk - Sweetener - Large - Caramel...  Morning    Fall   \n",
       "1  Frappuccino - Soy Milk - Extra Sweetener - Med...  Evening    Fall   \n",
       "2  Latte - Coconut Milk - Extra Sweetener - Small...  Morning  Winter   \n",
       "3    Latte - Coconut Milk - Sweetener - Small - None  Evening  Winter   \n",
       "4  Mocha - Regular - Sweetener - Large - Flavored...  Evening  Summer   \n",
       "\n",
       "                                      detailed_order office_location  \\\n",
       "0  Small - Almond Milk - Extra Sweetener - Flavor...        Office_E   \n",
       "1             Large - Almond Milk - Sweetener - None        Office_E   \n",
       "2                  Small - Regular - No Sugar - None        Office_E   \n",
       "3           Large - Regular - Extra Sweetener - None        Office_A   \n",
       "4                 Small - Oat Milk - No Sugar - None        Office_A   \n",
       "\n",
       "  assigned_starbucks  prep_time_minutes                          time_slot  \\\n",
       "0        Starbucks_3                4.0  Morning Rush (8:00 AM - 10:00 AM)   \n",
       "1        Starbucks_3                5.0       Midday (10:00 AM - 12:00 PM)   \n",
       "2        Starbucks_3                4.0                                NaN   \n",
       "3        Starbucks_2                3.0     Afternoon (12:00 PM - 2:00 PM)   \n",
       "4        Starbucks_1                5.0     Afternoon (12:00 PM - 2:00 PM)   \n",
       "\n",
       "   expected_wait_time_minutes order_time_only pickup_time_only  \n",
       "0                           6           08:57            09:10  \n",
       "1                           6           16:26            16:32  \n",
       "2                           6           09:42            09:54  \n",
       "3                           5           16:52            17:11  \n",
       "4                           7           16:57            17:14  "
      ]
     },
     "execution_count": 85,
     "metadata": {},
     "output_type": "execute_result"
    }
   ],
   "source": [
    "new_df.head()"
   ]
  },
  {
   "cell_type": "code",
   "execution_count": 86,
   "metadata": {},
   "outputs": [
    {
     "data": {
      "text/html": [
       "<div>\n",
       "<style scoped>\n",
       "    .dataframe tbody tr th:only-of-type {\n",
       "        vertical-align: middle;\n",
       "    }\n",
       "\n",
       "    .dataframe tbody tr th {\n",
       "        vertical-align: top;\n",
       "    }\n",
       "\n",
       "    .dataframe thead th {\n",
       "        text-align: right;\n",
       "    }\n",
       "</style>\n",
       "<table border=\"1\" class=\"dataframe\">\n",
       "  <thead>\n",
       "    <tr style=\"text-align: right;\">\n",
       "      <th></th>\n",
       "      <th>worker_id</th>\n",
       "      <th>prep_time_minutes</th>\n",
       "      <th>expected_wait_time_minutes</th>\n",
       "    </tr>\n",
       "  </thead>\n",
       "  <tbody>\n",
       "    <tr>\n",
       "      <th>count</th>\n",
       "      <td>10000.00000</td>\n",
       "      <td>9500.000000</td>\n",
       "      <td>10000.000000</td>\n",
       "    </tr>\n",
       "    <tr>\n",
       "      <th>mean</th>\n",
       "      <td>5000.50000</td>\n",
       "      <td>5.076421</td>\n",
       "      <td>6.582200</td>\n",
       "    </tr>\n",
       "    <tr>\n",
       "      <th>std</th>\n",
       "      <td>2886.89568</td>\n",
       "      <td>1.186056</td>\n",
       "      <td>1.290353</td>\n",
       "    </tr>\n",
       "    <tr>\n",
       "      <th>min</th>\n",
       "      <td>1.00000</td>\n",
       "      <td>3.000000</td>\n",
       "      <td>4.000000</td>\n",
       "    </tr>\n",
       "    <tr>\n",
       "      <th>25%</th>\n",
       "      <td>2500.75000</td>\n",
       "      <td>4.000000</td>\n",
       "      <td>6.000000</td>\n",
       "    </tr>\n",
       "    <tr>\n",
       "      <th>50%</th>\n",
       "      <td>5000.50000</td>\n",
       "      <td>5.000000</td>\n",
       "      <td>6.000000</td>\n",
       "    </tr>\n",
       "    <tr>\n",
       "      <th>75%</th>\n",
       "      <td>7500.25000</td>\n",
       "      <td>6.000000</td>\n",
       "      <td>7.000000</td>\n",
       "    </tr>\n",
       "    <tr>\n",
       "      <th>max</th>\n",
       "      <td>10000.00000</td>\n",
       "      <td>7.000000</td>\n",
       "      <td>9.000000</td>\n",
       "    </tr>\n",
       "  </tbody>\n",
       "</table>\n",
       "</div>"
      ],
      "text/plain": [
       "         worker_id  prep_time_minutes  expected_wait_time_minutes\n",
       "count  10000.00000        9500.000000                10000.000000\n",
       "mean    5000.50000           5.076421                    6.582200\n",
       "std     2886.89568           1.186056                    1.290353\n",
       "min        1.00000           3.000000                    4.000000\n",
       "25%     2500.75000           4.000000                    6.000000\n",
       "50%     5000.50000           5.000000                    6.000000\n",
       "75%     7500.25000           6.000000                    7.000000\n",
       "max    10000.00000           7.000000                    9.000000"
      ]
     },
     "execution_count": 86,
     "metadata": {},
     "output_type": "execute_result"
    }
   ],
   "source": [
    "new_df.describe()"
   ]
  },
  {
   "cell_type": "code",
   "execution_count": 87,
   "metadata": {},
   "outputs": [
    {
     "name": "stdout",
     "output_type": "stream",
     "text": [
      "<class 'pandas.core.frame.DataFrame'>\n",
      "RangeIndex: 10000 entries, 0 to 9999\n",
      "Data columns (total 14 columns):\n",
      " #   Column                      Non-Null Count  Dtype  \n",
      "---  ------                      --------------  -----  \n",
      " 0   worker_id                   10000 non-null  int64  \n",
      " 1   department                  10000 non-null  object \n",
      " 2   location                    10000 non-null  object \n",
      " 3   order_detail                9000 non-null   object \n",
      " 4   shift                       10000 non-null  object \n",
      " 5   season                      9000 non-null   object \n",
      " 6   detailed_order              10000 non-null  object \n",
      " 7   office_location             10000 non-null  object \n",
      " 8   assigned_starbucks          10000 non-null  object \n",
      " 9   prep_time_minutes           9500 non-null   float64\n",
      " 10  time_slot                   9500 non-null   object \n",
      " 11  expected_wait_time_minutes  10000 non-null  int64  \n",
      " 12  order_time_only             10000 non-null  object \n",
      " 13  pickup_time_only            9300 non-null   object \n",
      "dtypes: float64(1), int64(2), object(11)\n",
      "memory usage: 1.1+ MB\n"
     ]
    }
   ],
   "source": [
    "new_df.info()"
   ]
  },
  {
   "cell_type": "code",
   "execution_count": 88,
   "metadata": {},
   "outputs": [
    {
     "name": "stdout",
     "output_type": "stream",
     "text": [
      "<class 'pandas.core.frame.DataFrame'>\n",
      "RangeIndex: 10000 entries, 0 to 9999\n",
      "Data columns (total 14 columns):\n",
      " #   Column                      Non-Null Count  Dtype         \n",
      "---  ------                      --------------  -----         \n",
      " 0   worker_id                   10000 non-null  int64         \n",
      " 1   department                  10000 non-null  object        \n",
      " 2   location                    10000 non-null  object        \n",
      " 3   order_detail                9000 non-null   object        \n",
      " 4   shift                       10000 non-null  object        \n",
      " 5   season                      9000 non-null   object        \n",
      " 6   detailed_order              10000 non-null  object        \n",
      " 7   office_location             10000 non-null  object        \n",
      " 8   assigned_starbucks          10000 non-null  object        \n",
      " 9   prep_time_minutes           9500 non-null   float64       \n",
      " 10  time_slot                   9500 non-null   object        \n",
      " 11  expected_wait_time_minutes  10000 non-null  int64         \n",
      " 12  order_time_only             10000 non-null  datetime64[ns]\n",
      " 13  pickup_time_only            9300 non-null   datetime64[ns]\n",
      "dtypes: datetime64[ns](2), float64(1), int64(2), object(9)\n",
      "memory usage: 1.1+ MB\n",
      "None\n"
     ]
    },
    {
     "name": "stderr",
     "output_type": "stream",
     "text": [
      "C:\\Users\\lohit\\AppData\\Local\\Temp\\ipykernel_14936\\1765754775.py:1: UserWarning: Could not infer format, so each element will be parsed individually, falling back to `dateutil`. To ensure parsing is consistent and as-expected, please specify a format.\n",
      "  new_df['order_time_only'] = pd.to_datetime(new_df['order_time_only'])\n",
      "C:\\Users\\lohit\\AppData\\Local\\Temp\\ipykernel_14936\\1765754775.py:2: UserWarning: Could not infer format, so each element will be parsed individually, falling back to `dateutil`. To ensure parsing is consistent and as-expected, please specify a format.\n",
      "  new_df['pickup_time_only'] = pd.to_datetime(new_df['pickup_time_only'])\n"
     ]
    }
   ],
   "source": [
    "new_df['order_time_only'] = pd.to_datetime(new_df['order_time_only'])\n",
    "new_df['pickup_time_only'] = pd.to_datetime(new_df['pickup_time_only'])\n",
    "\n",
    "print(new_df.info())"
   ]
  },
  {
   "cell_type": "code",
   "execution_count": 89,
   "metadata": {},
   "outputs": [
    {
     "data": {
      "text/plain": [
       "season                        1000\n",
       "order_detail                  1000\n",
       "pickup_time_only               700\n",
       "prep_time_minutes              500\n",
       "time_slot                      500\n",
       "department                       0\n",
       "shift                            0\n",
       "location                         0\n",
       "worker_id                        0\n",
       "detailed_order                   0\n",
       "assigned_starbucks               0\n",
       "office_location                  0\n",
       "expected_wait_time_minutes       0\n",
       "order_time_only                  0\n",
       "dtype: int64"
      ]
     },
     "execution_count": 89,
     "metadata": {},
     "output_type": "execute_result"
    }
   ],
   "source": [
    "missing_Values = new_df.isnull().sum().sort_values(ascending=False)\n",
    "\n",
    "missing_Values"
   ]
  },
  {
   "cell_type": "code",
   "execution_count": 90,
   "metadata": {},
   "outputs": [
    {
     "name": "stderr",
     "output_type": "stream",
     "text": [
      "C:\\Users\\lohit\\AppData\\Local\\Temp\\ipykernel_14936\\2123811333.py:21: FutureWarning: A value is trying to be set on a copy of a DataFrame or Series through chained assignment using an inplace method.\n",
      "The behavior will change in pandas 3.0. This inplace method will never work because the intermediate object on which we are setting values always behaves as a copy.\n",
      "\n",
      "For example, when doing 'df[col].method(value, inplace=True)', try using 'df.method({col: value}, inplace=True)' or df[col] = df[col].method(value) instead, to perform the operation inplace on the original object.\n",
      "\n",
      "\n",
      "  new_df['prep_time_minutes'].fillna(prep_time_median, inplace=True)\n"
     ]
    }
   ],
   "source": [
    "def impute_time_slot(row):\n",
    "    if pd.isna(row['time_slot']):\n",
    "        hour = row['order_time_only'].hour\n",
    "        if 8 <= hour <10:\n",
    "            return 'Morning Rush (8:00 AM - 10:00 AM)'\n",
    "        elif 10<= hour <12:\n",
    "            return 'Midday (10:00 AM - 12:00 PM)'\n",
    "        elif 12 <= hour < 14:\n",
    "            return 'Afternoon (12:00 PM - 2:00 PM)'\n",
    "        elif 14 <= hour < 16:\n",
    "            return 'Afternoon (2:00 PM - 4:00 PM)'\n",
    "        elif 16 <= hour < 18:\n",
    "            return 'Evening (4:00 PM - 6:00 PM)'\n",
    "        else:\n",
    "            return 'Late Evening (6:00 PM - 8:00 PM)'\n",
    "    return row['time_slot']\n",
    "\n",
    "new_df['time_slot'] = new_df.apply(impute_time_slot,axis=1)\n",
    "\n",
    "prep_time_median = new_df['prep_time_minutes'].median()\n",
    "new_df['prep_time_minutes'].fillna(prep_time_median, inplace=True)\n",
    "\n",
    "new_df['pickup_time_only'] = new_df.apply(\n",
    "    lambda row: row['order_time_only'] + pd.to_timedelta(row['prep_time_minutes'], unit='m') \n",
    "    if pd.isna(row['pickup_time_only']) else row['pickup_time_only'], axis=1)"
   ]
  },
  {
   "cell_type": "code",
   "execution_count": 91,
   "metadata": {},
   "outputs": [],
   "source": [
    "# Drop 'order_detail'Since we have deatiled order\n",
    "new_df = new_df.drop(columns=['order_detail'])"
   ]
  },
  {
   "cell_type": "code",
   "execution_count": 92,
   "metadata": {},
   "outputs": [
    {
     "data": {
      "text/plain": [
       "season                        1000\n",
       "worker_id                        0\n",
       "department                       0\n",
       "location                         0\n",
       "shift                            0\n",
       "detailed_order                   0\n",
       "office_location                  0\n",
       "assigned_starbucks               0\n",
       "prep_time_minutes                0\n",
       "time_slot                        0\n",
       "expected_wait_time_minutes       0\n",
       "order_time_only                  0\n",
       "pickup_time_only                 0\n",
       "dtype: int64"
      ]
     },
     "execution_count": 92,
     "metadata": {},
     "output_type": "execute_result"
    }
   ],
   "source": [
    "new_df.isnull().sum().sort_values(ascending=False)"
   ]
  },
  {
   "cell_type": "code",
   "execution_count": 93,
   "metadata": {},
   "outputs": [
    {
     "name": "stderr",
     "output_type": "stream",
     "text": [
      "C:\\Users\\lohit\\AppData\\Local\\Temp\\ipykernel_14936\\339321845.py:5: FutureWarning: A value is trying to be set on a copy of a DataFrame or Series through chained assignment using an inplace method.\n",
      "The behavior will change in pandas 3.0. This inplace method will never work because the intermediate object on which we are setting values always behaves as a copy.\n",
      "\n",
      "For example, when doing 'df[col].method(value, inplace=True)', try using 'df.method({col: value}, inplace=True)' or df[col] = df[col].method(value) instead, to perform the operation inplace on the original object.\n",
      "\n",
      "\n",
      "  new_df['season'].fillna(season_mode, inplace=True)\n"
     ]
    }
   ],
   "source": [
    "# Get the mode (most frequent value) of the 'season' column\n",
    "season_mode = new_df['season'].mode()[0]\n",
    "\n",
    "# Fill the missing values in 'season' with the mode\n",
    "new_df['season'].fillna(season_mode, inplace=True)\n"
   ]
  },
  {
   "cell_type": "code",
   "execution_count": 94,
   "metadata": {},
   "outputs": [
    {
     "data": {
      "text/plain": [
       "season\n",
       "Summer    3301\n",
       "Spring    2238\n",
       "Winter    2231\n",
       "Fall      2230\n",
       "Name: count, dtype: int64"
      ]
     },
     "execution_count": 94,
     "metadata": {},
     "output_type": "execute_result"
    }
   ],
   "source": [
    "new_df['season'].value_counts()"
   ]
  },
  {
   "cell_type": "code",
   "execution_count": 95,
   "metadata": {},
   "outputs": [],
   "source": [
    "summer_data = new_df[new_df['season'] == 'Summer']\n",
    "winter_data = new_df[new_df['season'] == 'Winter']\n",
    "spring_data = new_df[new_df['season'] == 'Spring']\n",
    "Fall_data = new_df[new_df['season'] == 'Fall']"
   ]
  },
  {
   "cell_type": "code",
   "execution_count": 98,
   "metadata": {},
   "outputs": [
    {
     "data": {
      "text/plain": [
       "worker_id                     0\n",
       "department                    0\n",
       "location                      0\n",
       "shift                         0\n",
       "season                        0\n",
       "detailed_order                0\n",
       "office_location               0\n",
       "assigned_starbucks            0\n",
       "prep_time_minutes             0\n",
       "time_slot                     0\n",
       "expected_wait_time_minutes    0\n",
       "order_time_only               0\n",
       "pickup_time_only              0\n",
       "dtype: int64"
      ]
     },
     "execution_count": 98,
     "metadata": {},
     "output_type": "execute_result"
    }
   ],
   "source": [
    "summer_data.isnull().sum()"
   ]
  },
  {
   "cell_type": "code",
   "execution_count": 101,
   "metadata": {},
   "outputs": [
    {
     "name": "stdout",
     "output_type": "stream",
     "text": [
      "<class 'pandas.core.frame.DataFrame'>\n",
      "Index: 3301 entries, 4 to 9993\n",
      "Data columns (total 13 columns):\n",
      " #   Column                      Non-Null Count  Dtype         \n",
      "---  ------                      --------------  -----         \n",
      " 0   worker_id                   3301 non-null   int64         \n",
      " 1   department                  3301 non-null   object        \n",
      " 2   location                    3301 non-null   object        \n",
      " 3   shift                       3301 non-null   object        \n",
      " 4   season                      3301 non-null   object        \n",
      " 5   detailed_order              3301 non-null   object        \n",
      " 6   office_location             3301 non-null   object        \n",
      " 7   assigned_starbucks          3301 non-null   object        \n",
      " 8   prep_time_minutes           3301 non-null   float64       \n",
      " 9   time_slot                   3301 non-null   object        \n",
      " 10  expected_wait_time_minutes  3301 non-null   int64         \n",
      " 11  order_time_only             3301 non-null   datetime64[ns]\n",
      " 12  pickup_time_only            3301 non-null   datetime64[ns]\n",
      "dtypes: datetime64[ns](2), float64(1), int64(2), object(8)\n",
      "memory usage: 361.0+ KB\n",
      "None\n",
      "         worker_id  prep_time_minutes  expected_wait_time_minutes  \\\n",
      "count  3301.000000        3301.000000                 3301.000000   \n",
      "mean   4979.303847           5.073917                    6.586792   \n",
      "min       5.000000           3.000000                    4.000000   \n",
      "25%    2405.000000           4.000000                    6.000000   \n",
      "50%    4954.000000           5.000000                    7.000000   \n",
      "75%    7525.000000           6.000000                    7.000000   \n",
      "max    9994.000000           7.000000                    9.000000   \n",
      "std    2910.612994           1.142560                    1.277353   \n",
      "\n",
      "                     order_time_only               pickup_time_only  \n",
      "count                           3301                           3301  \n",
      "mean   2025-03-16 12:42:22.993032192  2025-03-16 12:53:59.618297600  \n",
      "min              2025-03-16 07:00:00            2025-03-16 07:05:00  \n",
      "25%              2025-03-16 09:03:00            2025-03-16 09:15:00  \n",
      "50%              2025-03-16 12:55:00            2025-03-16 13:07:00  \n",
      "75%              2025-03-16 16:27:00            2025-03-16 16:39:00  \n",
      "max              2025-03-16 17:59:00            2025-03-16 18:17:00  \n",
      "std                              NaN                            NaN  \n",
      "       department     location    shift  season  \\\n",
      "count        3301         3301     3301    3301   \n",
      "unique          7            3        3       1   \n",
      "top            HR  Starbucks_1  Morning  Summer   \n",
      "freq          500         1153     1150    3301   \n",
      "\n",
      "                                  detailed_order office_location  \\\n",
      "count                                       3301            3301   \n",
      "unique                                       144               5   \n",
      "top     Small - Regular - Extra Sweetener - None        Office_C   \n",
      "freq                                          35             708   \n",
      "\n",
      "       assigned_starbucks                          time_slot  \n",
      "count                3301                               3301  \n",
      "unique                  3                                  6  \n",
      "top           Starbucks_2  Morning Rush (8:00 AM - 10:00 AM)  \n",
      "freq                 1126                                983  \n",
      "worker_id                     0\n",
      "department                    0\n",
      "location                      0\n",
      "shift                         0\n",
      "season                        0\n",
      "detailed_order                0\n",
      "office_location               0\n",
      "assigned_starbucks            0\n",
      "prep_time_minutes             0\n",
      "time_slot                     0\n",
      "expected_wait_time_minutes    0\n",
      "order_time_only               0\n",
      "pickup_time_only              0\n",
      "dtype: int64\n"
     ]
    }
   ],
   "source": [
    "# 1.1 Display basic info about the dataframe\n",
    "print(summer_data.info())\n",
    "\n",
    "# 1.2 Summary statistics for numerical columns\n",
    "print(summer_data.describe())\n",
    "\n",
    "# 1.3 Summary statistics for categorical columns\n",
    "print(summer_data.describe(include=['object']))\n",
    "\n",
    "# 1.4 Check for missing values (already handled, but for sanity check)\n",
    "print(summer_data.isnull().sum())\n"
   ]
  },
  {
   "cell_type": "code",
   "execution_count": 103,
   "metadata": {},
   "outputs": [],
   "source": [
    "# Example feature: Time of Day\n",
    "summer_data.loc[:, 'order_hour'] = summer_data['order_time_only'].dt.hour\n",
    "\n",
    "# Example feature: Time difference between order and pickup\n",
    "summer_data.loc[:, 'waiting_time'] = (summer_data['pickup_time_only'] - summer_data['order_time_only']).dt.total_seconds() / 60"
   ]
  },
  {
   "cell_type": "code",
   "execution_count": 104,
   "metadata": {},
   "outputs": [],
   "source": [
    "import matplotlib.pyplot as plt\n",
    "import seaborn as sns"
   ]
  },
  {
   "cell_type": "code",
   "execution_count": 106,
   "metadata": {},
   "outputs": [
    {
     "data": {
      "image/png": "[encoded data removed]",
      "text/plain": [
       "<Figure size 640x480 with 1 Axes>"
      ]
     },
     "metadata": {},
     "output_type": "display_data"
    },
    {
     "data": {
      "image/png": "[encoded data removed]",
      "text/plain": [
       "<Figure size 640x480 with 1 Axes>"
      ]
     },
     "metadata": {},
     "output_type": "display_data"
    }
   ],
   "source": [
    "# Visualizing the distribution of waiting time\n",
    "sns.histplot(summer_data['waiting_time'], kde=True, bins=20)\n",
    "plt.title(\"Distribution of Waiting Time\")\n",
    "plt.show()\n",
    "\n",
    "# Visualizing the distribution of prep_time_minutes\n",
    "sns.histplot(summer_data['prep_time_minutes'], kde=True, bins=20)\n",
    "plt.title(\"Distribution of Prep Time\")\n",
    "plt.show()\n"
   ]
  },
  {
   "cell_type": "code",
   "execution_count": 111,
   "metadata": {},
   "outputs": [
    {
     "data": {
      "image/png": "[encoded data removed]",
      "text/plain": [
       "<Figure size 640x480 with 2 Axes>"
      ]
     },
     "metadata": {},
     "output_type": "display_data"
    }
   ],
   "source": [
    "# Correlation matrix for numerical features\n",
    "correlation_matrix = summer_data[['prep_time_minutes', 'waiting_time']].corr()\n",
    "sns.heatmap(correlation_matrix, annot=True, cmap='coolwarm', fmt='.2f')\n",
    "plt.title(\"Correlation between Features\")\n",
    "plt.show()\n"
   ]
  },
  {
   "cell_type": "code",
   "execution_count": 113,
   "metadata": {},
   "outputs": [
    {
     "name": "stdout",
     "output_type": "stream",
     "text": [
      "    order_hour  day_of_week time_of_day\n",
      "4           16            6   Afternoon\n",
      "9           17            6   Afternoon\n",
      "14           8            6     Morning\n",
      "19           9            6     Morning\n",
      "20           8            6     Morning\n"
     ]
    }
   ],
   "source": [
    "# Use .loc[] to modify the original DataFrame\n",
    "summer_data.loc[:, 'order_hour'] = summer_data['order_time_only'].dt.hour\n",
    "summer_data.loc[:, 'day_of_week'] = summer_data['order_time_only'].dt.dayofweek\n",
    "summer_data.loc[:, 'time_of_day'] = summer_data['order_hour'].apply(\n",
    "    lambda x: 'Morning' if 6 <= x < 12 else ('Afternoon' if 12 <= x < 18 else 'Evening')\n",
    ")\n",
    "\n",
    "# Check the updated DataFrame\n",
    "print(summer_data[['order_hour', 'day_of_week', 'time_of_day']].head())\n"
   ]
  },
  {
   "cell_type": "code",
   "execution_count": 115,
   "metadata": {},
   "outputs": [
    {
     "name": "stdout",
     "output_type": "stream",
     "text": [
      "    prep_time_minutes  order_hour  day_of_week  waiting_time\n",
      "4           -0.064704    1.063734          0.0      1.174781\n",
      "9           -0.940064    1.344825          0.0      0.520863\n",
      "14          -0.940064   -1.184993          0.0     -1.004946\n",
      "19          -0.940064   -0.903902          0.0     -0.133055\n",
      "20          -1.815424   -1.184993          0.0      1.610727\n"
     ]
    }
   ],
   "source": [
    "from sklearn.preprocessing import StandardScaler\n",
    "\n",
    "scaler = StandardScaler()\n",
    "\n",
    "# Scale numerical features\n",
    "numerical_features = ['prep_time_minutes', 'order_hour', 'day_of_week', 'waiting_time']\n",
    "# Use .loc to modify the DataFrame safely and avoid warnings\n",
    "summer_data.loc[:, numerical_features] = scaler.fit_transform(summer_data[numerical_features])\n",
    "\n",
    "# Check the transformed values\n",
    "print(summer_data[numerical_features].head())\n",
    "\n"
   ]
  },
  {
   "cell_type": "code",
   "execution_count": 116,
   "metadata": {},
   "outputs": [
    {
     "ename": "KeyError",
     "evalue": "\"['season_encoded', 'shift_encoded', 'time_of_day_encoded'] not in index\"",
     "output_type": "error",
     "traceback": [
      "\u001b[31m---------------------------------------------------------------------------\u001b[39m",
      "\u001b[31mKeyError\u001b[39m                                  Traceback (most recent call last)",
      "\u001b[36mCell\u001b[39m\u001b[36m \u001b[39m\u001b[32mIn[116]\u001b[39m\u001b[32m, line 6\u001b[39m\n\u001b[32m      3\u001b[39m \u001b[38;5;28;01mfrom\u001b[39;00m\u001b[38;5;250m \u001b[39m\u001b[34;01msklearn\u001b[39;00m\u001b[34;01m.\u001b[39;00m\u001b[34;01mmetrics\u001b[39;00m\u001b[38;5;250m \u001b[39m\u001b[38;5;28;01mimport\u001b[39;00m mean_absolute_error, mean_squared_error\n\u001b[32m      5\u001b[39m \u001b[38;5;66;03m# Select features and target\u001b[39;00m\n\u001b[32m----> \u001b[39m\u001b[32m6\u001b[39m X = \u001b[43msummer_data\u001b[49m\u001b[43m[\u001b[49m\u001b[43m[\u001b[49m\u001b[33;43m'\u001b[39;49m\u001b[33;43mprep_time_minutes\u001b[39;49m\u001b[33;43m'\u001b[39;49m\u001b[43m,\u001b[49m\u001b[43m \u001b[49m\u001b[33;43m'\u001b[39;49m\u001b[33;43morder_hour\u001b[39;49m\u001b[33;43m'\u001b[39;49m\u001b[43m,\u001b[49m\u001b[43m \u001b[49m\u001b[33;43m'\u001b[39;49m\u001b[33;43mday_of_week\u001b[39;49m\u001b[33;43m'\u001b[39;49m\u001b[43m,\u001b[49m\u001b[43m \u001b[49m\u001b[33;43m'\u001b[39;49m\u001b[33;43mseason_encoded\u001b[39;49m\u001b[33;43m'\u001b[39;49m\u001b[43m,\u001b[49m\u001b[43m \u001b[49m\u001b[33;43m'\u001b[39;49m\u001b[33;43mshift_encoded\u001b[39;49m\u001b[33;43m'\u001b[39;49m\u001b[43m,\u001b[49m\u001b[43m \u001b[49m\u001b[33;43m'\u001b[39;49m\u001b[33;43mtime_of_day_encoded\u001b[39;49m\u001b[33;43m'\u001b[39;49m\u001b[43m]\u001b[49m\u001b[43m]\u001b[49m\n\u001b[32m      7\u001b[39m y = summer_data[\u001b[33m'\u001b[39m\u001b[33mwaiting_time\u001b[39m\u001b[33m'\u001b[39m]  \u001b[38;5;66;03m# Target variable: waiting time\u001b[39;00m\n\u001b[32m      9\u001b[39m \u001b[38;5;66;03m# Split the data into training and testing sets\u001b[39;00m\n",
      "\u001b[36mFile \u001b[39m\u001b[32mc:\\Lohit\\New folder\\.venv\\Lib\\site-packages\\pandas\\core\\frame.py:4108\u001b[39m, in \u001b[36mDataFrame.__getitem__\u001b[39m\u001b[34m(self, key)\u001b[39m\n\u001b[32m   4106\u001b[39m     \u001b[38;5;28;01mif\u001b[39;00m is_iterator(key):\n\u001b[32m   4107\u001b[39m         key = \u001b[38;5;28mlist\u001b[39m(key)\n\u001b[32m-> \u001b[39m\u001b[32m4108\u001b[39m     indexer = \u001b[38;5;28;43mself\u001b[39;49m\u001b[43m.\u001b[49m\u001b[43mcolumns\u001b[49m\u001b[43m.\u001b[49m\u001b[43m_get_indexer_strict\u001b[49m\u001b[43m(\u001b[49m\u001b[43mkey\u001b[49m\u001b[43m,\u001b[49m\u001b[43m \u001b[49m\u001b[33;43m\"\u001b[39;49m\u001b[33;43mcolumns\u001b[39;49m\u001b[33;43m\"\u001b[39;49m\u001b[43m)\u001b[49m[\u001b[32m1\u001b[39m]\n\u001b[32m   4110\u001b[39m \u001b[38;5;66;03m# take() does not accept boolean indexers\u001b[39;00m\n\u001b[32m   4111\u001b[39m \u001b[38;5;28;01mif\u001b[39;00m \u001b[38;5;28mgetattr\u001b[39m(indexer, \u001b[33m\"\u001b[39m\u001b[33mdtype\u001b[39m\u001b[33m\"\u001b[39m, \u001b[38;5;28;01mNone\u001b[39;00m) == \u001b[38;5;28mbool\u001b[39m:\n",
      "\u001b[36mFile \u001b[39m\u001b[32mc:\\Lohit\\New folder\\.venv\\Lib\\site-packages\\pandas\\core\\indexes\\base.py:6200\u001b[39m, in \u001b[36mIndex._get_indexer_strict\u001b[39m\u001b[34m(self, key, axis_name)\u001b[39m\n\u001b[32m   6197\u001b[39m \u001b[38;5;28;01melse\u001b[39;00m:\n\u001b[32m   6198\u001b[39m     keyarr, indexer, new_indexer = \u001b[38;5;28mself\u001b[39m._reindex_non_unique(keyarr)\n\u001b[32m-> \u001b[39m\u001b[32m6200\u001b[39m \u001b[38;5;28;43mself\u001b[39;49m\u001b[43m.\u001b[49m\u001b[43m_raise_if_missing\u001b[49m\u001b[43m(\u001b[49m\u001b[43mkeyarr\u001b[49m\u001b[43m,\u001b[49m\u001b[43m \u001b[49m\u001b[43mindexer\u001b[49m\u001b[43m,\u001b[49m\u001b[43m \u001b[49m\u001b[43maxis_name\u001b[49m\u001b[43m)\u001b[49m\n\u001b[32m   6202\u001b[39m keyarr = \u001b[38;5;28mself\u001b[39m.take(indexer)\n\u001b[32m   6203\u001b[39m \u001b[38;5;28;01mif\u001b[39;00m \u001b[38;5;28misinstance\u001b[39m(key, Index):\n\u001b[32m   6204\u001b[39m     \u001b[38;5;66;03m# GH 42790 - Preserve name from an Index\u001b[39;00m\n",
      "\u001b[36mFile \u001b[39m\u001b[32mc:\\Lohit\\New folder\\.venv\\Lib\\site-packages\\pandas\\core\\indexes\\base.py:6252\u001b[39m, in \u001b[36mIndex._raise_if_missing\u001b[39m\u001b[34m(self, key, indexer, axis_name)\u001b[39m\n\u001b[32m   6249\u001b[39m     \u001b[38;5;28;01mraise\u001b[39;00m \u001b[38;5;167;01mKeyError\u001b[39;00m(\u001b[33mf\u001b[39m\u001b[33m\"\u001b[39m\u001b[33mNone of [\u001b[39m\u001b[38;5;132;01m{\u001b[39;00mkey\u001b[38;5;132;01m}\u001b[39;00m\u001b[33m] are in the [\u001b[39m\u001b[38;5;132;01m{\u001b[39;00maxis_name\u001b[38;5;132;01m}\u001b[39;00m\u001b[33m]\u001b[39m\u001b[33m\"\u001b[39m)\n\u001b[32m   6251\u001b[39m not_found = \u001b[38;5;28mlist\u001b[39m(ensure_index(key)[missing_mask.nonzero()[\u001b[32m0\u001b[39m]].unique())\n\u001b[32m-> \u001b[39m\u001b[32m6252\u001b[39m \u001b[38;5;28;01mraise\u001b[39;00m \u001b[38;5;167;01mKeyError\u001b[39;00m(\u001b[33mf\u001b[39m\u001b[33m\"\u001b[39m\u001b[38;5;132;01m{\u001b[39;00mnot_found\u001b[38;5;132;01m}\u001b[39;00m\u001b[33m not in index\u001b[39m\u001b[33m\"\u001b[39m)\n",
      "\u001b[31mKeyError\u001b[39m: \"['season_encoded', 'shift_encoded', 'time_of_day_encoded'] not in index\""
     ]
    }
   ],
   "source": [
    "from sklearn.model_selection import train_test_split\n",
    "from sklearn.ensemble import RandomForestRegressor\n",
    "from sklearn.metrics import mean_absolute_error, mean_squared_error\n",
    "\n",
    "# Select features and target\n",
    "X = summer_data[['prep_time_minutes', 'order_hour', 'day_of_week', 'season_encoded', 'shift_encoded', 'time_of_day_encoded']]\n",
    "y = summer_data['waiting_time']  # Target variable: waiting time\n",
    "\n",
    "# Split the data into training and testing sets\n",
    "X_train, X_test, y_train, y_test = train_test_split(X, y, test_size=0.2, random_state=42)\n",
    "\n",
    "# Initialize Random Forest Regressor\n",
    "rf_model = RandomForestRegressor(n_estimators=100, random_state=42)\n",
    "\n",
    "# Train the model\n",
    "rf_model.fit(X_train, y_train)\n",
    "\n",
    "# Make predictions\n",
    "y_pred = rf_model.predict(X_test)\n",
    "\n",
    "# Evaluate the model\n",
    "mae = mean_absolute_error(y_test, y_pred)\n",
    "mse = mean_squared_error(y_test, y_pred)\n",
    "print(f\"Mean Absolute Error (MAE): {mae}\")\n",
    "print(f\"Mean Squared Error (MSE): {mse}\")\n"
   ]
  },
  {
   "cell_type": "code",
   "execution_count": 117,
   "metadata": {},
   "outputs": [
    {
     "name": "stdout",
     "output_type": "stream",
     "text": [
      "    season  season_encoded    shift  shift_encoded time_of_day  \\\n",
      "4   Summer               0  Evening              1   Afternoon   \n",
      "9   Summer               0  Evening              1   Afternoon   \n",
      "14  Summer               0  Morning              2     Morning   \n",
      "19  Summer               0  Morning              2     Morning   \n",
      "20  Summer               0  Morning              2     Morning   \n",
      "\n",
      "    time_of_day_encoded  \n",
      "4                     0  \n",
      "9                     0  \n",
      "14                    1  \n",
      "19                    1  \n",
      "20                    1  \n"
     ]
    },
    {
     "name": "stderr",
     "output_type": "stream",
     "text": [
      "C:\\Users\\lohit\\AppData\\Local\\Temp\\ipykernel_14936\\3616062150.py:7: SettingWithCopyWarning: \n",
      "A value is trying to be set on a copy of a slice from a DataFrame.\n",
      "Try using .loc[row_indexer,col_indexer] = value instead\n",
      "\n",
      "See the caveats in the documentation: https://pandas.pydata.org/pandas-docs/stable/user_guide/indexing.html#returning-a-view-versus-a-copy\n",
      "  summer_data['season_encoded'] = label_encoder.fit_transform(summer_data['season'])\n",
      "C:\\Users\\lohit\\AppData\\Local\\Temp\\ipykernel_14936\\3616062150.py:8: SettingWithCopyWarning: \n",
      "A value is trying to be set on a copy of a slice from a DataFrame.\n",
      "Try using .loc[row_indexer,col_indexer] = value instead\n",
      "\n",
      "See the caveats in the documentation: https://pandas.pydata.org/pandas-docs/stable/user_guide/indexing.html#returning-a-view-versus-a-copy\n",
      "  summer_data['shift_encoded'] = label_encoder.fit_transform(summer_data['shift'])\n",
      "C:\\Users\\lohit\\AppData\\Local\\Temp\\ipykernel_14936\\3616062150.py:9: SettingWithCopyWarning: \n",
      "A value is trying to be set on a copy of a slice from a DataFrame.\n",
      "Try using .loc[row_indexer,col_indexer] = value instead\n",
      "\n",
      "See the caveats in the documentation: https://pandas.pydata.org/pandas-docs/stable/user_guide/indexing.html#returning-a-view-versus-a-copy\n",
      "  summer_data['time_of_day_encoded'] = label_encoder.fit_transform(summer_data['time_of_day'])\n"
     ]
    }
   ],
   "source": [
    "from sklearn.preprocessing import LabelEncoder\n",
    "\n",
    "# Initialize LabelEncoder\n",
    "label_encoder = LabelEncoder()\n",
    "\n",
    "# Encode the categorical features\n",
    "summer_data['season_encoded'] = label_encoder.fit_transform(summer_data['season'])\n",
    "summer_data['shift_encoded'] = label_encoder.fit_transform(summer_data['shift'])\n",
    "summer_data['time_of_day_encoded'] = label_encoder.fit_transform(summer_data['time_of_day'])\n",
    "\n",
    "# Check the encoding\n",
    "print(summer_data[['season', 'season_encoded', 'shift', 'shift_encoded', 'time_of_day', 'time_of_day_encoded']].head())\n"
   ]
  }
 ],
 "metadata": {
  "kernelspec": {
   "display_name": ".venv",
   "language": "python",
   "name": "python3"
  },
  "language_info": {
   "codemirror_mode": {
    "name": "ipython",
    "version": 3
   },
   "file_extension": ".py",
   "mimetype": "text/x-python",
   "name": "python",
   "nbconvert_exporter": "python",
   "pygments_lexer": "ipython3",
   "version": "3.12.6"
  }
 },
 "nbformat": 4,
 "nbformat_minor": 2
}
